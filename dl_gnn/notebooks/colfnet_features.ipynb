{
 "cells": [
  {
   "cell_type": "code",
   "execution_count": 2,
   "metadata": {},
   "outputs": [],
   "source": [
    "import torch\n",
    "import numpy as np"
   ]
  },
  {
   "cell_type": "code",
   "execution_count": 3,
   "metadata": {},
   "outputs": [],
   "source": [
    "atomic_number = 21\n",
    "batch_size = 60"
   ]
  },
  {
   "cell_type": "code",
   "execution_count": 9,
   "metadata": {},
   "outputs": [
    {
     "name": "stdout",
     "output_type": "stream",
     "text": [
      "Modified Adjacency Matrix:\n",
      " tensor([[[0., 1., 0.,  ..., 0., 0., 0.],\n",
      "         [1., 0., 1.,  ..., 0., 0., 0.],\n",
      "         [0., 1., 0.,  ..., 0., 0., 0.],\n",
      "         ...,\n",
      "         [0., 0., 0.,  ..., 0., 0., 1.],\n",
      "         [0., 0., 0.,  ..., 0., 0., 0.],\n",
      "         [0., 0., 0.,  ..., 1., 0., 0.]],\n",
      "\n",
      "        [[0., 1., 0.,  ..., 0., 0., 0.],\n",
      "         [1., 0., 1.,  ..., 0., 0., 0.],\n",
      "         [0., 1., 0.,  ..., 0., 0., 0.],\n",
      "         ...,\n",
      "         [0., 0., 0.,  ..., 0., 0., 1.],\n",
      "         [0., 0., 0.,  ..., 0., 0., 0.],\n",
      "         [0., 0., 0.,  ..., 1., 0., 0.]],\n",
      "\n",
      "        [[0., 1., 0.,  ..., 0., 0., 0.],\n",
      "         [1., 0., 1.,  ..., 0., 0., 0.],\n",
      "         [0., 1., 0.,  ..., 0., 0., 0.],\n",
      "         ...,\n",
      "         [0., 0., 0.,  ..., 0., 0., 1.],\n",
      "         [0., 0., 0.,  ..., 0., 0., 0.],\n",
      "         [0., 0., 0.,  ..., 1., 0., 0.]],\n",
      "\n",
      "        ...,\n",
      "\n",
      "        [[0., 1., 0.,  ..., 0., 0., 0.],\n",
      "         [1., 0., 1.,  ..., 0., 0., 0.],\n",
      "         [0., 1., 0.,  ..., 0., 0., 0.],\n",
      "         ...,\n",
      "         [0., 0., 0.,  ..., 0., 0., 1.],\n",
      "         [0., 0., 0.,  ..., 0., 0., 0.],\n",
      "         [0., 0., 0.,  ..., 1., 0., 0.]],\n",
      "\n",
      "        [[0., 1., 0.,  ..., 0., 0., 0.],\n",
      "         [1., 0., 1.,  ..., 0., 0., 0.],\n",
      "         [0., 1., 0.,  ..., 0., 0., 0.],\n",
      "         ...,\n",
      "         [0., 0., 0.,  ..., 0., 0., 1.],\n",
      "         [0., 0., 0.,  ..., 0., 0., 0.],\n",
      "         [0., 0., 0.,  ..., 1., 0., 0.]],\n",
      "\n",
      "        [[0., 1., 0.,  ..., 0., 0., 0.],\n",
      "         [1., 0., 1.,  ..., 0., 0., 0.],\n",
      "         [0., 1., 0.,  ..., 0., 0., 0.],\n",
      "         ...,\n",
      "         [0., 0., 0.,  ..., 0., 0., 1.],\n",
      "         [0., 0., 0.,  ..., 0., 0., 0.],\n",
      "         [0., 0., 0.,  ..., 1., 0., 0.]]])\n"
     ]
    }
   ],
   "source": [
    "position_batch_center = torch.randn(batch_size, atomic_number, 3)\n",
    "atomic_adjacency_matrix = torch.zeros(batch_size, atomic_number, atomic_number)\n",
    "connections = [(0, 1), (1, 2), (2, 3), (4, 5), \n",
    "               (5, 6), (18, 20)\n",
    "               ]  # 假设这些原子对之间存在连接\n",
    "\n",
    "# 将连接关系转换为张量\n",
    "# 注意：这里我们使用了torch.tensor()来转换列表，并确保数据类型与索引匹配（通常是long）\n",
    "rows = torch.tensor([i for i, j in connections], dtype=torch.long)\n",
    "cols = torch.tensor([j for i, j in connections], dtype=torch.long)\n",
    "\n",
    "# 使用高级索引同时更新邻接矩阵的对称位置\n",
    "# 这里我们遍历每个批次进行更新，但更新操作本身利用了广播机制\n",
    "for b in range(batch_size):\n",
    "    atomic_adjacency_matrix[b, rows, cols] = 1\n",
    "    atomic_adjacency_matrix[b, cols, rows] = 1  # 确保对称性\n",
    "\n",
    "# 打印结果以验证\n",
    "print(\"Modified Adjacency Matrix:\\n\", atomic_adjacency_matrix)"
   ]
  },
  {
   "cell_type": "code",
   "execution_count": 18,
   "metadata": {},
   "outputs": [],
   "source": [
    "def coordinates2localframe_type1(position_batch_center, atomic_adjacency_matrix, norm_diff=True):\n",
    "    batch_size, num_atoms, _ = position_batch_center.shape\n",
    "\n",
    "    # 扩展维度以进行广播\n",
    "    coords_row = position_batch_center.unsqueeze(2).expand(-1, -1, num_atoms, -1)\n",
    "    coords_col = position_batch_center.unsqueeze(1).expand(-1, num_atoms, -1, -1)\n",
    "    # 计算坐标差异\n",
    "    coord_diff = coords_row - coords_col\n",
    "    # batch_size x num_atoms x num_atoms x 3 \n",
    "    # (1, 1, 2, :)代表的第二个批次里面第二个原子和第三个原子的位置差\n",
    "    # # 计算径向距离\n",
    "    ## TODO: 问题出在这里， 进行cross的计算会导致两个数值接近0，从而导致nan的出现。\n",
    "    ## TODO: 选取dummy data 来做测试来保证矩阵形状差不多。\n",
    "    radial = torch.sum(coord_diff ** 2, dim=-1, keepdim=True)\n",
    "    # coord_cross 的矩阵也是 batch_size x num_atoms x num_atoms x 3 \n",
    "    # (1, 1, 2, :) 表示第二个批次里面的第二个原子的向量和和第三个原子的向量的cross\n",
    "    coord_cross = torch.randn(batch_size, num_atoms, num_atoms, 3)\n",
    "    for i in range(num_atoms):\n",
    "        for j in range(num_atoms):\n",
    "            pos_i = position_batch_center[:, i, :]\n",
    "            pos_j = position_batch_center[:, j, :]\n",
    "            coord_cross[:, i, j, :] = torch.cross(pos_i, pos_j)\n",
    "\n",
    "    # coord_cross = torch.cross(coord_diff, coords_row, dim=-1)  # 这里应保持coord_diff作为叉乘的输入\n",
    "    # 规范化向量\n",
    "    if norm_diff:\n",
    "        norm = torch.sqrt(radial) + 1e-5\n",
    "        coord_diff = coord_diff / norm\n",
    "        cross_norm = torch.sqrt(torch.sum(coord_cross ** 2, dim=-1, keepdim=True)) + 1e-5\n",
    "        coord_cross = coord_cross / cross_norm\n",
    "    # 计算第三个轴\n",
    "    coord_vertical = torch.cross(coord_diff, coord_cross, dim=-1)\n",
    "    # 使用邻接矩阵筛选出相邻的原子对\n",
    "    mask = atomic_adjacency_matrix.unsqueeze(-1)  # 扩展维度以匹配\n",
    "    coord_diff = coord_diff * mask\n",
    "    coord_cross = coord_cross * mask\n",
    "    coord_vertical = coord_vertical * mask\n",
    "    # 三者都是batch_size x num_atoms x num_atoms x 3\n",
    "    return coord_diff, coord_cross, coord_vertical\n",
    "coord_diff, coord_cross, coord_vertical = coordinates2localframe_type1(position_batch_center, atomic_adjacency_matrix, norm_diff=True)"
   ]
  },
  {
   "cell_type": "code",
   "execution_count": 19,
   "metadata": {},
   "outputs": [],
   "source": [
    "def coordinates2localframe_type2(position_batch_center, atomic_adjacency_matrix, norm_diff=True):\n",
    "    batch_size, num_atoms, _ = position_batch_center.shape\n",
    "\n",
    "    # 扩展维度以进行广播\n",
    "    coords_row = position_batch_center.unsqueeze(2).expand(-1, -1, num_atoms, -1)\n",
    "    coords_col = position_batch_center.unsqueeze(1).expand(-1, num_atoms, -1, -1)\n",
    "    # 计算坐标差异\n",
    "    coord_diff = coords_row - coords_col\n",
    "    # batch_size x num_atoms x num_atoms x 3 \n",
    "    radial = torch.sum(coord_diff ** 2, dim=-1, keepdim=True)\n",
    "    coord_cross = torch.cross(coords_row, coords_col, dim=-1)\n",
    "    # 规范化向量\n",
    "    if norm_diff:\n",
    "        norm = torch.sqrt(radial) + 1e-5\n",
    "        coord_diff = coord_diff / norm\n",
    "        cross_norm = torch.sqrt(torch.sum(coord_cross ** 2, dim=-1, keepdim=True)) + 1e-5\n",
    "        coord_cross = coord_cross / cross_norm\n",
    "    # 计算第三个轴\n",
    "    coord_vertical = torch.cross(coord_diff, coord_cross, dim=-1)\n",
    "    # 使用邻接矩阵筛选出相邻的原子对\n",
    "    mask = atomic_adjacency_matrix.unsqueeze(-1)  # 扩展维度以匹配\n",
    "    coord_diff = coord_diff * mask\n",
    "    coord_cross = coord_cross * mask\n",
    "    coord_vertical = coord_vertical * mask\n",
    "    # 三者都是batch_size x num_atoms x num_atoms x 3\n",
    "    return coord_diff, coord_cross, coord_vertical\n",
    "_coord_diff, _coord_cross, _coord_vertical = coordinates2localframe_type2(position_batch_center, atomic_adjacency_matrix, norm_diff=True)"
   ]
  },
  {
   "cell_type": "code",
   "execution_count": 24,
   "metadata": {},
   "outputs": [
    {
     "data": {
      "text/plain": [
       "tensor(0.)"
      ]
     },
     "execution_count": 24,
     "metadata": {},
     "output_type": "execute_result"
    }
   ],
   "source": [
    "torch.sum(coord_cross-_coord_cross)"
   ]
  },
  {
   "cell_type": "code",
   "execution_count": 16,
   "metadata": {},
   "outputs": [
    {
     "ename": "RuntimeError",
     "evalue": "element 0 of tensors does not require grad and does not have a grad_fn",
     "output_type": "error",
     "traceback": [
      "\u001b[1;31m---------------------------------------------------------------------------\u001b[0m",
      "\u001b[1;31mRuntimeError\u001b[0m                              Traceback (most recent call last)",
      "Cell \u001b[1;32mIn[16], line 6\u001b[0m\n\u001b[0;32m      4\u001b[0m \u001b[38;5;66;03m# Create a dummy loss and compute gradients to check for gradient flow\u001b[39;00m\n\u001b[0;32m      5\u001b[0m loss \u001b[38;5;241m=\u001b[39m torch\u001b[38;5;241m.\u001b[39msum(coord_diff) \u001b[38;5;241m+\u001b[39m torch\u001b[38;5;241m.\u001b[39msum(coord_cross) \u001b[38;5;241m+\u001b[39m torch\u001b[38;5;241m.\u001b[39msum(coord_vertical)\n\u001b[1;32m----> 6\u001b[0m \u001b[43mloss\u001b[49m\u001b[38;5;241;43m.\u001b[39;49m\u001b[43mbackward\u001b[49m\u001b[43m(\u001b[49m\u001b[43m)\u001b[49m\n\u001b[0;32m      8\u001b[0m \u001b[38;5;66;03m# Check gradients exist for the input tensor\u001b[39;00m\n\u001b[0;32m      9\u001b[0m \u001b[38;5;28mprint\u001b[39m(\u001b[38;5;124m\"\u001b[39m\u001b[38;5;124mGradient for position_batch_center:\u001b[39m\u001b[38;5;124m\"\u001b[39m, position_batch_center\u001b[38;5;241m.\u001b[39mgrad)\n",
      "File \u001b[1;32mc:\\Users\\23174\\anaconda3\\envs\\pytorch\\lib\\site-packages\\torch\\_tensor.py:487\u001b[0m, in \u001b[0;36mTensor.backward\u001b[1;34m(self, gradient, retain_graph, create_graph, inputs)\u001b[0m\n\u001b[0;32m    477\u001b[0m \u001b[38;5;28;01mif\u001b[39;00m has_torch_function_unary(\u001b[38;5;28mself\u001b[39m):\n\u001b[0;32m    478\u001b[0m     \u001b[38;5;28;01mreturn\u001b[39;00m handle_torch_function(\n\u001b[0;32m    479\u001b[0m         Tensor\u001b[38;5;241m.\u001b[39mbackward,\n\u001b[0;32m    480\u001b[0m         (\u001b[38;5;28mself\u001b[39m,),\n\u001b[1;32m   (...)\u001b[0m\n\u001b[0;32m    485\u001b[0m         inputs\u001b[38;5;241m=\u001b[39minputs,\n\u001b[0;32m    486\u001b[0m     )\n\u001b[1;32m--> 487\u001b[0m \u001b[43mtorch\u001b[49m\u001b[38;5;241;43m.\u001b[39;49m\u001b[43mautograd\u001b[49m\u001b[38;5;241;43m.\u001b[39;49m\u001b[43mbackward\u001b[49m\u001b[43m(\u001b[49m\n\u001b[0;32m    488\u001b[0m \u001b[43m    \u001b[49m\u001b[38;5;28;43mself\u001b[39;49m\u001b[43m,\u001b[49m\u001b[43m \u001b[49m\u001b[43mgradient\u001b[49m\u001b[43m,\u001b[49m\u001b[43m \u001b[49m\u001b[43mretain_graph\u001b[49m\u001b[43m,\u001b[49m\u001b[43m \u001b[49m\u001b[43mcreate_graph\u001b[49m\u001b[43m,\u001b[49m\u001b[43m \u001b[49m\u001b[43minputs\u001b[49m\u001b[38;5;241;43m=\u001b[39;49m\u001b[43minputs\u001b[49m\n\u001b[0;32m    489\u001b[0m \u001b[43m\u001b[49m\u001b[43m)\u001b[49m\n",
      "File \u001b[1;32mc:\\Users\\23174\\anaconda3\\envs\\pytorch\\lib\\site-packages\\torch\\autograd\\__init__.py:200\u001b[0m, in \u001b[0;36mbackward\u001b[1;34m(tensors, grad_tensors, retain_graph, create_graph, grad_variables, inputs)\u001b[0m\n\u001b[0;32m    195\u001b[0m     retain_graph \u001b[38;5;241m=\u001b[39m create_graph\n\u001b[0;32m    197\u001b[0m \u001b[38;5;66;03m# The reason we repeat same the comment below is that\u001b[39;00m\n\u001b[0;32m    198\u001b[0m \u001b[38;5;66;03m# some Python versions print out the first line of a multi-line function\u001b[39;00m\n\u001b[0;32m    199\u001b[0m \u001b[38;5;66;03m# calls in the traceback and some print out the last line\u001b[39;00m\n\u001b[1;32m--> 200\u001b[0m \u001b[43mVariable\u001b[49m\u001b[38;5;241;43m.\u001b[39;49m\u001b[43m_execution_engine\u001b[49m\u001b[38;5;241;43m.\u001b[39;49m\u001b[43mrun_backward\u001b[49m\u001b[43m(\u001b[49m\u001b[43m  \u001b[49m\u001b[38;5;66;43;03m# Calls into the C++ engine to run the backward pass\u001b[39;49;00m\n\u001b[0;32m    201\u001b[0m \u001b[43m    \u001b[49m\u001b[43mtensors\u001b[49m\u001b[43m,\u001b[49m\u001b[43m \u001b[49m\u001b[43mgrad_tensors_\u001b[49m\u001b[43m,\u001b[49m\u001b[43m \u001b[49m\u001b[43mretain_graph\u001b[49m\u001b[43m,\u001b[49m\u001b[43m \u001b[49m\u001b[43mcreate_graph\u001b[49m\u001b[43m,\u001b[49m\u001b[43m \u001b[49m\u001b[43minputs\u001b[49m\u001b[43m,\u001b[49m\n\u001b[0;32m    202\u001b[0m \u001b[43m    \u001b[49m\u001b[43mallow_unreachable\u001b[49m\u001b[38;5;241;43m=\u001b[39;49m\u001b[38;5;28;43;01mTrue\u001b[39;49;00m\u001b[43m,\u001b[49m\u001b[43m \u001b[49m\u001b[43maccumulate_grad\u001b[49m\u001b[38;5;241;43m=\u001b[39;49m\u001b[38;5;28;43;01mTrue\u001b[39;49;00m\u001b[43m)\u001b[49m\n",
      "\u001b[1;31mRuntimeError\u001b[0m: element 0 of tensors does not require grad and does not have a grad_fn"
     ]
    }
   ],
   "source": [
    "# Execute the function with dummy data\n",
    "coord_diff, coord_cross, coord_vertical = coordinates2localframe(position_batch_center, atomic_adjacency_matrix, norm_diff=True)\n",
    "\n",
    "# Create a dummy loss and compute gradients to check for gradient flow\n",
    "loss = torch.sum(coord_diff) + torch.sum(coord_cross) + torch.sum(coord_vertical)\n",
    "loss.backward()\n",
    "\n",
    "# Check gradients exist for the input tensor\n",
    "print(\"Gradient for position_batch_center:\", position_batch_center.grad)"
   ]
  },
  {
   "cell_type": "code",
   "execution_count": 1,
   "metadata": {},
   "outputs": [],
   "source": [
    "import numpy as np"
   ]
  },
  {
   "cell_type": "code",
   "execution_count": 2,
   "metadata": {},
   "outputs": [],
   "source": [
    "npz_path = r\"C:\\Users\\23174\\Desktop\\GitHub Project\\GitHubProjectBigData\\GNN-Molecular-Project\\GNN-LF-AND-ColfNet\\dl_gnn\\data\\MD17\\raw\\md17_aspirin.npz\"\n",
    "data= np.load(npz_path)"
   ]
  },
  {
   "cell_type": "code",
   "execution_count": 4,
   "metadata": {},
   "outputs": [
    {
     "name": "stdout",
     "output_type": "stream",
     "text": [
      "E (211762, 1)\n",
      "name ()\n",
      "F (211762, 21, 3)\n",
      "theory ()\n",
      "R (211762, 21, 3)\n",
      "z (21,)\n",
      "type ()\n",
      "md5 ()\n"
     ]
    }
   ],
   "source": [
    "for key in data.keys():\n",
    "    print(key, data[key].shape)"
   ]
  },
  {
   "cell_type": "code",
   "execution_count": null,
   "metadata": {},
   "outputs": [],
   "source": []
  }
 ],
 "metadata": {
  "kernelspec": {
   "display_name": "pytorch",
   "language": "python",
   "name": "python3"
  },
  "language_info": {
   "codemirror_mode": {
    "name": "ipython",
    "version": 3
   },
   "file_extension": ".py",
   "mimetype": "text/x-python",
   "name": "python",
   "nbconvert_exporter": "python",
   "pygments_lexer": "ipython3",
   "version": "3.9.0"
  }
 },
 "nbformat": 4,
 "nbformat_minor": 2
}
