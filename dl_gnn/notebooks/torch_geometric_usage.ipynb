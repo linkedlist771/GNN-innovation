{
 "cells": [
  {
   "cell_type": "markdown",
   "id": "111a4549dee576f6",
   "metadata": {
    "collapsed": false
   },
   "source": [
    "## 图的处理\n",
    "\n",
    "图用于建模对象（节点）之间的成对关系（边）。在 PyG 中，一个图由 `torch_geometric.data.Data` 的实例描述，默认情况下具有以下属性：\n",
    "\n",
    "- `data.x`：节点特征矩阵，形状为 `[num_nodes, num_node_features]`\n",
    "- `data.edge_index`：COO 格式的图连接，形状为 `[2, num_edges]`，类型为 `torch.long`\n",
    "- `data.edge_attr`：边特征矩阵，形状为 `[num_edges, num_edge_features]`\n",
    "- `data.y`：训练目标（可能具有任意形状），例如，节点级别目标的形状为 `[num_nodes, *]` 或图级目标的形状为 `[1, *]`\n",
    "- `data.pos`：节点位置矩阵，形状为 `[num_nodes, num_dimensions]`\n",
    "\n",
    "这些属性都不是必需的。实际上，`Data` 对象甚至不限于这些属性。我们可以通过 `data.face` 来扩展它，以保存 3D 网格中三角形的连接性，使用形状为 `[3, num_faces]` 的张量和类型为 `torch.long`。\n",
    "\n",
    "> **注意：**  \n",
    "> PyTorch 和 `torchvision` 将一个示例定义为图像和目标的元组。我们在 PyG 中省略了这种表示，以便以干净和可理解的方式允许各种数据结构。\n",
    "\n"
   ]
  },
  {
   "cell_type": "markdown",
   "id": "473cad20ea46a350",
   "metadata": {
    "collapsed": false
   },
   "source": []
  },
  {
   "cell_type": "code",
   "execution_count": 26,
   "id": "c169954fb8f8da78",
   "metadata": {
    "ExecuteTime": {
     "end_time": "2024-06-13T12:26:37.168450300Z",
     "start_time": "2024-06-13T12:26:37.139421Z"
    },
    "collapsed": false
   },
   "outputs": [
    {
     "data": {
      "text/plain": [
       "Data(x=[3, 1], edge_index=[2, 4])"
      ]
     },
     "execution_count": 26,
     "metadata": {},
     "output_type": "execute_result"
    }
   ],
   "source": [
    "from torch_geometric.data import Data\n",
    "\n",
    "import torch\n",
    "\n",
    "edge_index = torch.tensor([[0, 1],\n",
    "                           [1, 0],\n",
    "                           [1, 2],\n",
    "                           [2, 1]], dtype=torch.long)\n",
    "\n",
    "x = torch.tensor([[-1], [0], [1]], dtype=torch.float)\n",
    "\n",
    "data = Data(x=x, edge_index=edge_index.t().contiguous())\n",
    "data"
   ]
  },
  {
   "cell_type": "code",
   "execution_count": 27,
   "id": "c15a796e158fc95c",
   "metadata": {
    "collapsed": false
   },
   "outputs": [
    {
     "data": {
      "text/plain": [
       "True"
      ]
     },
     "execution_count": 27,
     "metadata": {},
     "output_type": "execute_result"
    }
   ],
   "source": [
    "data.validate(raise_on_error=True)\n"
   ]
  },
  {
   "cell_type": "markdown",
   "id": "ab0b075b",
   "metadata": {},
   "source": [
    "```python\n",
    "    def forward(self, atomic_numbers: Tensor, atomic_positions: Tensor):\n",
    "        \"\"\"\n",
    "        神经网络前向传播\n",
    "        :param atomic_numbers: the atomic number of each atom in the molecule, shape: batch_size x atomic_number\n",
    "        :param atomic_positions:  the coordinate of each atom in the molecule, shape: batch_size x atomic_number x 3\n",
    "        :return:\n",
    "         - atomic_number_embedding: Embeddings of atomic numbers with layer normalization applied.\n",
    "                                           Shape: (batch_size, atomic_number, hid_dim)\n",
    "         - atomic_adjacency_matrix: Smoothed adjacency matrix representing atomic connections.\n",
    "                                           Shape: (batch_size, atomic_number, atomic_number)\n",
    "         - normalized_atom_position_distances: Normalized vectors representing interatomic distances.\n",
    "                                                      Shape: (batch_size, atomic_number, atomic_number, 3)\n",
    "         - edge_features: Edge features computed using RBF, representing interatomic relationships.\n",
    "                                 Shape: (batch_size, atomic_number, atomic_number, ef_dim)\n",
    "        \"\"\"\n",
    "        batch_size, num_atoms, _ = atomic_positions.shape\n",
    "        # TODO: change the adjacent matrix into the edge list to dramaticlly reduce thesize\n",
    "\n",
    "        (\n",
    "            atomic_number_embedding,\n",
    "            atomic_adjacency_matrix,\n",
    "            normalized_atom_position_distances,\n",
    "            edge_features,\n",
    "        ) = self.mol2graph(atomic_numbers, atomic_positions)\n",
    "        mask = self.ef_proj(edge_features) * atomic_adjacency_matrix.unsqueeze(-1)\n",
    "\n",
    "        # TODO: 现在把这个邻接矩阵的表示变成edge list的形式\n",
    "```"
   ]
  },
  {
   "cell_type": "code",
   "execution_count": 28,
   "id": "e477d685",
   "metadata": {},
   "outputs": [],
   "source": [
    "import torch.nn as nn\n",
    "import torch"
   ]
  },
  {
   "cell_type": "code",
   "execution_count": 29,
   "id": "fa0342cd",
   "metadata": {},
   "outputs": [],
   "source": [
    "batch_size = 32\n",
    "atomic_number = 96\n",
    "hidden_channels = 256"
   ]
  },
  {
   "cell_type": "code",
   "execution_count": 78,
   "id": "a4b2faf3",
   "metadata": {},
   "outputs": [],
   "source": [
    "# ```python\n",
    "#     def forward(self, atomic_numbers: Tensor, atomic_positions: Tensor):\n",
    "#         \"\"\"\n",
    "#         神经网络前向传播\n",
    "#         :param atomic_numbers: the atomic number of each atom in the molecule, shape: batch_size x atomic_number\n",
    "#         :param atomic_positions:  the coordinate of each atom in the molecule, shape: batch_size x atomic_number x 3\n",
    "#         :return:\n",
    "#          - atomic_number_embedding: Embeddings of atomic numbers with layer normalization applied.\n",
    "#                                            Shape: (batch_size, atomic_number, hid_dim)\n",
    "#          - atomic_adjacency_matrix: Smoothed adjacency matrix representing atomic connections.\n",
    "#                                            Shape: (batch_size, atomic_number, atomic_number)\n",
    "#          - normalized_atom_position_distances: Normalized vectors representing interatomic distances.\n",
    "#                                                       Shape: (batch_size, atomic_number, atomic_number, 3)\n",
    "#          - edge_features: Edge features computed using RBF, representing interatomic relationships.\n",
    "#                                  Shape: (batch_size, atomic_number, atomic_number, ef_dim)\n",
    "#         \"\"\"\n",
    "#         batch_size, num_atoms, _ = atomic_positions.shape\n",
    "#         # TODO: change the adjacent matrix into the edge list to dramaticlly reduce thesize\n",
    "\n",
    "#         (\n",
    "#             atomic_number_embedding,\n",
    "#             atomic_adjacency_matrix,\n",
    "#             normalized_atom_position_distances,\n",
    "#             edge_features,\n",
    "#         ) = self.mol2graph(atomic_numbers, atomic_positions)\n",
    "#         mask = self.ef_proj(edge_features) * atomic_adjacency_matrix.unsqueeze(-1)\n",
    "\n",
    "#         # TODO: 现在把这个邻接矩阵的表示变成edge list的形式\n",
    "# ```\n",
    "atomic_embedding = torch.randn(batch_size, atomic_number, hidden_channels)\n",
    "# Create a random lower triangular matrix\n",
    "atomic_adjacency_matrix = torch.randint(low=0, high=2, size=(batch_size, atomic_number,  atomic_number))\n",
    "\n",
    "\n",
    "\n",
    "\n",
    "normalized_atom_position_distances = torch.randn(batch_size, atomic_number, atomic_number, 3)\n",
    "edge_features = torch.randn(batch_size, atomic_number, atomic_number, 3)\n",
    "\n"
   ]
  },
  {
   "cell_type": "code",
   "execution_count": 88,
   "id": "e431649c",
   "metadata": {},
   "outputs": [],
   "source": [
    "batch_idx, rows_idx, cols_idx = torch.nonzero(atomic_adjacency_matrix, as_tuple=True)\n"
   ]
  },
  {
   "cell_type": "code",
   "execution_count": 89,
   "id": "06296f67",
   "metadata": {},
   "outputs": [
    {
     "data": {
      "text/plain": [
       "tensor([ 0,  0,  0,  ..., 31, 31, 31])"
      ]
     },
     "execution_count": 89,
     "metadata": {},
     "output_type": "execute_result"
    }
   ],
   "source": [
    "batch_idx"
   ]
  },
  {
   "cell_type": "code",
   "execution_count": 91,
   "id": "de6f6517",
   "metadata": {},
   "outputs": [
    {
     "data": {
      "text/plain": [
       "torch.Size([147791])"
      ]
     },
     "execution_count": 91,
     "metadata": {},
     "output_type": "execute_result"
    }
   ],
   "source": [
    "batch_idx.shape"
   ]
  },
  {
   "cell_type": "code",
   "execution_count": 86,
   "id": "21c49af3",
   "metadata": {},
   "outputs": [
    {
     "data": {
      "text/plain": [
       "tensor([ 0,  0,  0,  ..., 95, 95, 95])"
      ]
     },
     "execution_count": 86,
     "metadata": {},
     "output_type": "execute_result"
    }
   ],
   "source": []
  },
  {
   "cell_type": "code",
   "execution_count": 87,
   "id": "801420fb",
   "metadata": {},
   "outputs": [
    {
     "data": {
      "text/plain": [
       "294912"
      ]
     },
     "execution_count": 87,
     "metadata": {},
     "output_type": "execute_result"
    }
   ],
   "source": []
  },
  {
   "cell_type": "code",
   "execution_count": null,
   "id": "c1d86c8d",
   "metadata": {},
   "outputs": [],
   "source": []
  },
  {
   "cell_type": "code",
   "execution_count": null,
   "id": "ed1e07a8",
   "metadata": {},
   "outputs": [],
   "source": []
  },
  {
   "cell_type": "code",
   "execution_count": null,
   "id": "06915a23",
   "metadata": {},
   "outputs": [],
   "source": []
  }
 ],
 "metadata": {
  "kernelspec": {
   "display_name": "Python 3",
   "language": "python",
   "name": "python3"
  },
  "language_info": {
   "codemirror_mode": {
    "name": "ipython",
    "version": 3
   },
   "file_extension": ".py",
   "mimetype": "text/x-python",
   "name": "python",
   "nbconvert_exporter": "python",
   "pygments_lexer": "ipython3",
   "version": "3.9.0"
  }
 },
 "nbformat": 4,
 "nbformat_minor": 5
}
